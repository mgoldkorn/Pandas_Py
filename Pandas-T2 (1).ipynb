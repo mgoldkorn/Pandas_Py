{
 "cells": [
  {
   "cell_type": "code",
   "execution_count": 1,
   "id": "8b11abac",
   "metadata": {},
   "outputs": [],
   "source": [
    "#Pandas"
   ]
  },
  {
   "cell_type": "code",
   "execution_count": 2,
   "id": "7ff890e7",
   "metadata": {},
   "outputs": [],
   "source": [
    "import pandas as pd"
   ]
  },
  {
   "cell_type": "code",
   "execution_count": 3,
   "id": "754ce54e",
   "metadata": {},
   "outputs": [],
   "source": [
    "df = pd.read_excel(r'C:\\Users\\melug\\OneDrive\\Escritorio\\CLIENTES\\2021_trim_1.xls', header=[5, 6, 7], skipfooter=16)\n",
    "df.tail(3)"
   ]
  },
  {
   "cell_type": "code",
   "execution_count": 4,
   "id": "fedb3e6b",
   "metadata": {},
   "outputs": [],
   "source": [
    "df['Enero - Marzo  2021'].head()"
   ]
  },
  {
   "cell_type": "code",
   "execution_count": 5,
   "id": "244da3b4",
   "metadata": {},
   "outputs": [],
   "source": [
    "valores = df['Enero - Marzo  2021'].droplevel(level=0, axis=1)\n",
    "valores.head()"
   ]
  },
  {
   "cell_type": "code",
   "execution_count": 7,
   "id": "38a3ff3a",
   "metadata": {},
   "outputs": [],
   "source": [
    "valores = valores.dropna(subset=['Total', 'Hombres', 'Mujeres'])\n",
    "valores.head()"
   ]
  },
  {
   "cell_type": "code",
   "execution_count": 10,
   "id": "ec2fcf06",
   "metadata": {},
   "outputs": [],
   "source": [
    "valores = valores.rename_axis(index=['nivel_1', 'nivel_2', 'nivel_3', 'nivel_4'], columns=['sexo'])\\\n",
    "                .rename(lambda x: 'Total' if pd.isna(x) else x)\n",
    "\n",
    "valores.head()"
   ]
  },
  {
   "cell_type": "code",
   "execution_count": 11,
   "id": "40135c99",
   "metadata": {},
   "outputs": [],
   "source": [
    "pea = valores.loc[('2. Población de 15 años y más', 'Población económicamente activa (PEA)')]\n",
    "pea"
   ]
  },
  {
   "cell_type": "code",
   "execution_count": 12,
   "id": "7b1ba7d2",
   "metadata": {},
   "outputs": [],
   "source": [
    "pea.droplevel(1)\\\n",
    "    .T\\\n",
    "    .add_prefix('poblacion_')\\\n",
    "    .reset_index()"
   ]
  },
  {
   "cell_type": "code",
   "execution_count": 14,
   "id": "50e0e495",
   "metadata": {},
   "outputs": [],
   "source": [
    "pea_sur = pd.concat([obtiene_pea(e) for e in ['BA_1', 'Sa_1', 'Ju_1', 'Ca_1', 'Qui_1', 'Co_1']], ignore_index=True)\n",
    "pea_sur"
   ]
  },
  {
   "cell_type": "code",
   "execution_count": null,
   "id": "726b5f7a",
   "metadata": {},
   "outputs": [],
   "source": []
  }
 ],
 "metadata": {
  "kernelspec": {
   "display_name": "Python 3",
   "language": "python",
   "name": "python3"
  },
  "language_info": {
   "codemirror_mode": {
    "name": "ipython",
    "version": 3
   },
   "file_extension": ".py",
   "mimetype": "text/x-python",
   "name": "python",
   "nbconvert_exporter": "python",
   "pygments_lexer": "ipython3",
   "version": "3.8.8"
  }
 },
 "nbformat": 4,
 "nbformat_minor": 5
}
